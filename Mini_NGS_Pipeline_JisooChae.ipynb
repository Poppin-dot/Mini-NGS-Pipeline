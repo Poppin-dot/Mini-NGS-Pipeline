{
 "cells": [
  {
   "cell_type": "markdown",
   "id": "c5d5bb49",
   "metadata": {},
   "source": [
    "# Project 1 — Mini NGS Pipeline (Jupyter Edition)\n",
    "\n",
    "**Goal:** Minimal end‑to‑end NGS workflow: **QC → Align → Variant Call → Load VCF into SQLite** and query.\n",
    "\n",
    "**Tools:** FastQC, BWA, SAMtools, FreeBayes, bgzip/tabix (htslib), Python (sqlite3, pandas).\n",
    "\n",
    "**Files:** lambda_virus.fa (https://github.com/BenLangmead/bowtie2/blob/master/example/reference/lambda_virus.fa)\n",
    "\n",
    "reads_1.fq\n",
    "(https://github.com/BenLangmead/bowtie2/blob/master/example/reads/reads_1.fq)\n",
    "\n",
    "reads_2.fq\n",
    "(https://github.com/BenLangmead/bowtie2/blob/master/example/reads/reads_2.fq)"
   ]
  },
  {
   "cell_type": "markdown",
   "id": "fa9c19c7",
   "metadata": {},
   "source": [
    "\n",
    "## Create project structure\n"
   ]
  },
  {
   "cell_type": "code",
   "execution_count": 6,
   "id": "16560e1a",
   "metadata": {},
   "outputs": [
    {
     "name": "stdout",
     "output_type": "stream",
     "text": [
      "Project root: C:\\Users\\Jisoo Chae\\Self project\\2 Mini NGS pipeline\\project1\n",
      " - C:\\Users\\Jisoo Chae\\Self project\\2 Mini NGS pipeline\\project1\\data\n",
      " - C:\\Users\\Jisoo Chae\\Self project\\2 Mini NGS pipeline\\project1\\ref\n",
      " - C:\\Users\\Jisoo Chae\\Self project\\2 Mini NGS pipeline\\project1\\results\n",
      " - C:\\Users\\Jisoo Chae\\Self project\\2 Mini NGS pipeline\\project1\\qc\n",
      " - C:\\Users\\Jisoo Chae\\Self project\\2 Mini NGS pipeline\\project1\\sql\n"
     ]
    }
   ],
   "source": [
    "from pathlib import Path\n",
    "\n",
    "ROOT = Path.cwd() / \"project1\"\n",
    "DATA = ROOT / \"data\"\n",
    "REF  = ROOT / \"ref\"\n",
    "OUT  = ROOT / \"results\"\n",
    "QC   = ROOT / \"qc\"\n",
    "SQL  = ROOT / \"sql\"\n",
    "\n",
    "for p in [DATA, REF, OUT, QC, SQL]:\n",
    "    p.mkdir(parents=True, exist_ok=True)\n",
    "\n",
    "print(\"Project root:\", ROOT)\n",
    "for p in [DATA, REF, OUT, QC, SQL]:\n",
    "    print(\" -\", p)\n"
   ]
  },
  {
   "cell_type": "markdown",
   "id": "392ae1dc",
   "metadata": {},
   "source": [
    "\n",
    "## 1) Quality Control — FastQC\n",
    "Outputs reports into `qc/`.\n"
   ]
  },
  {
   "cell_type": "code",
   "execution_count": 7,
   "id": "9649898f",
   "metadata": {
    "scrolled": true
   },
   "outputs": [
    {
     "name": "stdout",
     "output_type": "stream",
     "text": [
      "$ conda run -n caris-mini fastqc -o \"C:\\Users\\Jisoo Chae\\Self project\\2 Mini NGS pipeline\\project1\\qc\" \"C:\\Users\\Jisoo Chae\\Self project\\2 Mini NGS pipeline\\project1\\data\\reads_1.fq\"\n",
      "FastQC exit code: 1\n",
      "QC dir: C:\\Users\\Jisoo Chae\\Self project\\2 Mini NGS pipeline\\project1\\qc\n"
     ]
    }
   ],
   "source": [
    "\n",
    "import subprocess\n",
    "from pathlib import Path\n",
    "\n",
    "def run(cmd: str):\n",
    "    print(\"$\", cmd)\n",
    "    return subprocess.call(cmd, shell=True)\n",
    "\n",
    "reads_1 = DATA / \"reads_1.fq\"\n",
    "assert reads_1.exists(), \"reads_1.fq not found. Run the data-prep cells first.\"\n",
    "\n",
    "rc = run(f'conda run -n caris-mini fastqc -o \"{QC}\" \"{reads_1}\"')\n",
    "print(\"FastQC exit code:\", rc)\n",
    "print(\"QC dir:\", QC)\n"
   ]
  },
  {
   "cell_type": "markdown",
   "id": "0d4eca2f",
   "metadata": {},
   "source": [
    "\n",
    "## 2) Alignment — BWA (SAM → BAM → sorted BAM → index)\n"
   ]
  },
  {
   "cell_type": "code",
   "execution_count": 8,
   "id": "e2e6acac",
   "metadata": {
    "scrolled": true
   },
   "outputs": [
    {
     "name": "stdout",
     "output_type": "stream",
     "text": [
      "$ conda run -n caris-mini bwa index \"C:\\Users\\Jisoo Chae\\Self project\\2 Mini NGS pipeline\\project1\\ref\\lambda_virus.fa\"\n",
      "$ conda run -n caris-mini bwa mem -t 2 \"C:\\Users\\Jisoo Chae\\Self project\\2 Mini NGS pipeline\\project1\\ref\\lambda_virus.fa\" \"C:\\Users\\Jisoo Chae\\Self project\\2 Mini NGS pipeline\\project1\\data\\reads_1.fq\" > \"C:\\Users\\Jisoo Chae\\Self project\\2 Mini NGS pipeline\\project1\\results\\aln.sam\"\n",
      "$ conda run -n caris-mini samtools view -bS \"C:\\Users\\Jisoo Chae\\Self project\\2 Mini NGS pipeline\\project1\\results\\aln.sam\" > \"C:\\Users\\Jisoo Chae\\Self project\\2 Mini NGS pipeline\\project1\\results\\aln.bam\"\n",
      "$ conda run -n caris-mini samtools sort -o \"C:\\Users\\Jisoo Chae\\Self project\\2 Mini NGS pipeline\\project1\\results\\aln.sorted.bam\" \"C:\\Users\\Jisoo Chae\\Self project\\2 Mini NGS pipeline\\project1\\results\\aln.bam\"\n",
      "$ mv \"C:\\Users\\Jisoo Chae\\Self project\\2 Mini NGS pipeline\\project1\\results\\aln.sorted.bam\" \"C:\\Users\\Jisoo Chae\\Self project\\2 Mini NGS pipeline\\project1\\results\\aln.bam\"\n",
      "$ conda run -n caris-mini samtools index \"C:\\Users\\Jisoo Chae\\Self project\\2 Mini NGS pipeline\\project1\\results\\aln.bam\"\n",
      "BAM exists: True C:\\Users\\Jisoo Chae\\Self project\\2 Mini NGS pipeline\\project1\\results\\aln.bam\n",
      "BAI exists: False\n"
     ]
    }
   ],
   "source": [
    "\n",
    "ref_fa = REF / \"lambda_virus.fa\"\n",
    "aln_sam = OUT / \"aln.sam\"\n",
    "aln_bam = OUT / \"aln.bam\"\n",
    "aln_sorted = OUT / \"aln.sorted.bam\"\n",
    "\n",
    "assert ref_fa.exists(), \"Reference FASTA missing.\"\n",
    "\n",
    "# Index reference\n",
    "run(f'conda run -n caris-mini bwa index \"{ref_fa}\"')\n",
    "\n",
    "# Align to SAM\n",
    "run(f'conda run -n caris-mini bwa mem -t 2 \"{ref_fa}\" \"{reads_1}\" > \"{aln_sam}\"')\n",
    "\n",
    "# SAM -> BAM\n",
    "run(f'conda run -n caris-mini samtools view -bS \"{aln_sam}\" > \"{aln_bam}\"')\n",
    "\n",
    "# Sort BAM and replace\n",
    "run(f'conda run -n caris-mini samtools sort -o \"{aln_sorted}\" \"{aln_bam}\"')\n",
    "run(f'mv \"{aln_sorted}\" \"{aln_bam}\"')\n",
    "\n",
    "# Index BAM\n",
    "run(f'conda run -n caris-mini samtools index \"{aln_bam}\"')\n",
    "\n",
    "print(\"BAM exists:\", aln_bam.exists(), aln_bam)\n",
    "print(\"BAI exists:\", Path(str(aln_bam)+\".bai\").exists())\n"
   ]
  },
  {
   "cell_type": "markdown",
   "id": "180ff7c7",
   "metadata": {},
   "source": [
    "\n",
    "## 3) Variant Calling — FreeBayes (+ bgzip & tabix)\n"
   ]
  },
  {
   "cell_type": "code",
   "execution_count": 9,
   "id": "bded0d1c",
   "metadata": {},
   "outputs": [
    {
     "name": "stdout",
     "output_type": "stream",
     "text": [
      "$ conda run -n caris-mini freebayes -f \"C:\\Users\\Jisoo Chae\\Self project\\2 Mini NGS pipeline\\project1\\ref\\lambda_virus.fa\" \"C:\\Users\\Jisoo Chae\\Self project\\2 Mini NGS pipeline\\project1\\results\\aln.bam\" > \"C:\\Users\\Jisoo Chae\\Self project\\2 Mini NGS pipeline\\project1\\results\\variants.vcf\"\n",
      "$ conda run -n caris-mini bgzip -f \"C:\\Users\\Jisoo Chae\\Self project\\2 Mini NGS pipeline\\project1\\results\\variants.vcf\"\n",
      "$ conda run -n caris-mini tabix -f \"C:\\Users\\Jisoo Chae\\Self project\\2 Mini NGS pipeline\\project1\\results\\variants.vcf.gz\"\n",
      "VCF GZ: False C:\\Users\\Jisoo Chae\\Self project\\2 Mini NGS pipeline\\project1\\results\\variants.vcf.gz\n",
      "TBI: False\n"
     ]
    }
   ],
   "source": [
    "vcf = OUT / \"variants.vcf\"\n",
    "vcf_gz = OUT / \"variants.vcf.gz\"\n",
    "\n",
    "# Call variants\n",
    "run(f'conda run -n caris-mini freebayes -f \"{ref_fa}\" \"{aln_bam}\" > \"{vcf}\"')\n",
    "\n",
    "# Compress + index\n",
    "run(f'conda run -n caris-mini bgzip -f \"{vcf}\"')\n",
    "run(f'conda run -n caris-mini tabix -f \"{vcf_gz}\"')\n",
    "\n",
    "print(\"VCF GZ:\", vcf_gz.exists(), vcf_gz)\n",
    "print(\"TBI:\", Path(str(vcf_gz)+\".tbi\").exists())\n"
   ]
  },
  {
   "cell_type": "markdown",
   "id": "df2ce7c2",
   "metadata": {},
   "source": [
    "\n",
    "## 4) export tidy CSV / Excel\n",
    "\n",
    "Parse VCF → DataFrame → save CSV & Excel"
   ]
  },
  {
   "cell_type": "code",
   "execution_count": 10,
   "id": "08b00738",
   "metadata": {},
   "outputs": [
    {
     "name": "stdout",
     "output_type": "stream",
     "text": [
      "Parsed variants: 0\n"
     ]
    },
    {
     "data": {
      "text/html": [
       "<div>\n",
       "<style scoped>\n",
       "    .dataframe tbody tr th:only-of-type {\n",
       "        vertical-align: middle;\n",
       "    }\n",
       "\n",
       "    .dataframe tbody tr th {\n",
       "        vertical-align: top;\n",
       "    }\n",
       "\n",
       "    .dataframe thead th {\n",
       "        text-align: right;\n",
       "    }\n",
       "</style>\n",
       "<table border=\"1\" class=\"dataframe\">\n",
       "  <thead>\n",
       "    <tr style=\"text-align: right;\">\n",
       "      <th></th>\n",
       "      <th>chrom</th>\n",
       "      <th>pos</th>\n",
       "      <th>id</th>\n",
       "      <th>ref</th>\n",
       "      <th>alt</th>\n",
       "      <th>qual</th>\n",
       "      <th>filter</th>\n",
       "      <th>info</th>\n",
       "      <th>type</th>\n",
       "    </tr>\n",
       "  </thead>\n",
       "  <tbody>\n",
       "  </tbody>\n",
       "</table>\n",
       "</div>"
      ],
      "text/plain": [
       "Empty DataFrame\n",
       "Columns: [chrom, pos, id, ref, alt, qual, filter, info, type]\n",
       "Index: []"
      ]
     },
     "metadata": {},
     "output_type": "display_data"
    },
    {
     "name": "stdout",
     "output_type": "stream",
     "text": [
      "Wrote: C:\\Users\\Jisoo Chae\\Self project\\2 Mini NGS pipeline\\caris_project1\\results\\variants.csv\n",
      "Wrote: C:\\Users\\Jisoo Chae\\Self project\\2 Mini NGS pipeline\\caris_project1\\results\\variants.xlsx\n"
     ]
    }
   ],
   "source": [
    "from pathlib import Path\n",
    "import pandas as pd, gzip\n",
    "\n",
    "ROOT = Path.cwd() / \"caris_project1\"\n",
    "OUT  = ROOT / \"results\"\n",
    "\n",
    "vcf_path = OUT / \"variants.vcf\"       # created earlier\n",
    "assert vcf_path.exists(), \"variants.vcf not found. Run the calling step first.\"\n",
    "\n",
    "records = []\n",
    "with open(vcf_path, \"rt\", encoding=\"utf-8\") as fh:\n",
    "    for line in fh:\n",
    "        if line.startswith(\"#\"):\n",
    "            continue\n",
    "        parts = line.rstrip(\"\\n\").split(\"\\t\")\n",
    "        if len(parts) < 8:\n",
    "            continue  # skip malformed/blank rows\n",
    "        chrom, pos, vid, ref, alt, qual, flt, info = line.rstrip(\"\\n\").split(\"\\t\")[:8]\n",
    "        first_alt = alt.split(\",\")[0]\n",
    "        records.append({\n",
    "            \"chrom\": chrom,\n",
    "            \"pos\": int(pos),\n",
    "            \"id\": None if vid == \".\" else vid,\n",
    "            \"ref\": ref,\n",
    "            \"alt\": alt,\n",
    "            \"qual\": None if qual == \".\" else float(qual),\n",
    "            \"filter\": flt,\n",
    "            \"info\": info,\n",
    "            \"type\": \"SNP\" if len(ref) == 1 and len(first_alt) == 1 else \"INDEL\",\n",
    "        })\n",
    "\n",
    "# Ensure columns exist even if empty\n",
    "cols = [\"chrom\",\"pos\",\"id\",\"ref\",\"alt\",\"qual\",\"filter\",\"info\",\"type\"]\n",
    "df = pd.DataFrame.from_records(records, columns=cols)\n",
    "print(\"Parsed variants:\", len(df))\n",
    "display(df.head(10))\n",
    "\n",
    "\n",
    "##SAVE FILES\n",
    "\n",
    "csv_path  = OUT / \"variants.csv\"\n",
    "xlsx_path = OUT / \"variants.xlsx\"\n",
    "\n",
    "df.to_csv(csv_path, index=False)\n",
    "\n",
    "# If Excel export errors, install openpyxl in your env: \n",
    "#   conda run -n caris-mini conda install -y -c conda-forge openpyxl\n",
    "with pd.ExcelWriter(xlsx_path, engine=\"openpyxl\") as xw:\n",
    "    df.to_excel(xw, sheet_name=\"variants\", index=False)\n",
    "\n",
    "    # Only build extra sheets if we have rows\n",
    "    if not df.empty:\n",
    "        top = df.sort_values(\"qual\", ascending=False, na_position=\"last\").head(50)\n",
    "        top.to_excel(xw, sheet_name=\"top_variants\", index=False)\n",
    "        chrom_counts = df[\"chrom\"].value_counts(dropna=False).rename_axis(\"chrom\").reset_index(name=\"n_variants\")\n",
    "        chrom_counts.to_excel(xw, sheet_name=\"chrom_counts\", index=False)\n",
    "        summary = pd.DataFrame({\n",
    "            \"metric\": [\"n_variants\", \"n_snp\", \"n_indel\", \"qual_mean\", \"qual_median\"],\n",
    "            \"value\": [len(df),\n",
    "                      int((df[\"type\"] == \"SNP\").sum()),\n",
    "                      int((df[\"type\"] == \"INDEL\").sum()),\n",
    "                      float(df[\"qual\"].mean(skipna=True)),\n",
    "                      float(df[\"qual\"].median(skipna=True))]\n",
    "        })\n",
    "    else:\n",
    "        # Empty summary if no variants\n",
    "        summary = pd.DataFrame({\n",
    "            \"metric\": [\"n_variants\", \"n_snp\", \"n_indel\", \"qual_mean\", \"qual_median\"],\n",
    "            \"value\": [0, 0, 0, None, None]\n",
    "        })\n",
    "    summary.to_excel(xw, sheet_name=\"summary\", index=False)\n",
    "\n",
    "print(\"Wrote:\", csv_path)\n",
    "print(\"Wrote:\", xlsx_path)"
   ]
  },
  {
   "cell_type": "code",
   "execution_count": null,
   "id": "439d7a97",
   "metadata": {},
   "outputs": [],
   "source": []
  },
  {
   "cell_type": "code",
   "execution_count": null,
   "id": "d235a5fe",
   "metadata": {},
   "outputs": [],
   "source": []
  },
  {
   "cell_type": "code",
   "execution_count": null,
   "id": "58569692",
   "metadata": {},
   "outputs": [],
   "source": []
  },
  {
   "cell_type": "code",
   "execution_count": null,
   "id": "ec11888a",
   "metadata": {},
   "outputs": [],
   "source": []
  },
  {
   "cell_type": "code",
   "execution_count": null,
   "id": "60b25794",
   "metadata": {},
   "outputs": [],
   "source": []
  }
 ],
 "metadata": {
  "kernelspec": {
   "display_name": "Python 3 (ipykernel)",
   "language": "python",
   "name": "python3"
  },
  "language_info": {
   "codemirror_mode": {
    "name": "ipython",
    "version": 3
   },
   "file_extension": ".py",
   "mimetype": "text/x-python",
   "name": "python",
   "nbconvert_exporter": "python",
   "pygments_lexer": "ipython3",
   "version": "3.11.5"
  }
 },
 "nbformat": 4,
 "nbformat_minor": 5
}
